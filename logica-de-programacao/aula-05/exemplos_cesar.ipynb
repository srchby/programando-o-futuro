{
 "cells": [
  {
   "cell_type": "markdown",
   "metadata": {},
   "source": [
    "# Cesar School: Programando o futuro"
   ]
  },
  {
   "cell_type": "markdown",
   "metadata": {},
   "source": [
    "## Exemplo 1"
   ]
  },
  {
   "cell_type": "code",
   "execution_count": null,
   "metadata": {},
   "outputs": [],
   "source": [
    "while True:\n",
    "    name = input(\"Insira nome: \")\n",
    "    passw = input(\"Insira senha: \")\n",
    "    \n",
    "    if name == passw:\n",
    "        print(\"Erro \\nNome e senha e inválido.\")\n"
   ]
  },
  {
   "cell_type": "markdown",
   "metadata": {},
   "source": [
    "## Exemplo 2"
   ]
  },
  {
   "cell_type": "code",
   "execution_count": null,
   "metadata": {},
   "outputs": [],
   "source": [
    "while True:\n",
    "    number = int(input(\"Insira número para gerar tabuada: \"))\n",
    "    \n",
    "    i = 1\n",
    "    while i < 11:\n",
    "        print(f\"{number} * {i}: {number * i}\\n\")\n",
    "        i += 1"
   ]
  },
  {
   "cell_type": "markdown",
   "metadata": {},
   "source": [
    "## Exemplo 3"
   ]
  },
  {
   "cell_type": "code",
   "execution_count": null,
   "metadata": {},
   "outputs": [],
   "source": [
    "i = 0\n",
    "PASSW = \"1234\"\n",
    "while i < 4:\n",
    "    if i == 3:\n",
    "        print(f\"Você tentou entrar a senha 3 vezes!\")\n",
    "        break\n",
    "    passw = input(f\"Insira a senha correta (1234) (Número de tentativas: {i}): \")\n",
    "    if passw == PASSW:\n",
    "        print(\"Senha correta!\")\n",
    "        break\n",
    "    else:\n",
    "        i += 1\n",
    "        print(\"Senha errada!\")"
   ]
  },
  {
   "cell_type": "markdown",
   "metadata": {},
   "source": [
    "## Exemplo 4"
   ]
  },
  {
   "cell_type": "code",
   "execution_count": null,
   "metadata": {},
   "outputs": [],
   "source": [
    "import random as rand\n",
    "\n",
    "num = rand.randint(1, 20)\n",
    "\n",
    "tries = 0\n",
    "while True:\n",
    "    guess = int(input(\"Insira um número (1-20):\"))\n",
    "    if guess == num:\n",
    "        try_word = \"tentativa\" if tries == 1 else \"tentativas\"\n",
    "        print(f\"Parabéns! Feito em {tries} {try_word}\")\n",
    "    elif guess != num:\n",
    "        if guess > num:\n",
    "            print(\"Número errado! O número é menor.\")\n",
    "        elif guess < num:\n",
    "            print(\"Número errado! O número é maior.\")\n",
    "        tries += 1\n",
    "            "
   ]
  }
 ],
 "metadata": {
  "kernelspec": {
   "display_name": "Python 3",
   "language": "python",
   "name": "python3"
  },
  "language_info": {
   "codemirror_mode": {
    "name": "ipython",
    "version": 3
   },
   "file_extension": ".py",
   "mimetype": "text/x-python",
   "name": "python",
   "nbconvert_exporter": "python",
   "pygments_lexer": "ipython3",
   "version": "3.13.0"
  }
 },
 "nbformat": 4,
 "nbformat_minor": 2
}
