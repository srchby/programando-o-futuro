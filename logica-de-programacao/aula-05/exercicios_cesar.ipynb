{
 "cells": [
  {
   "cell_type": "markdown",
   "metadata": {},
   "source": [
    "# Cesar School: Programando o futuro"
   ]
  },
  {
   "cell_type": "markdown",
   "metadata": {},
   "source": [
    "## Exercício 1"
   ]
  },
  {
   "cell_type": "code",
   "execution_count": 43,
   "metadata": {},
   "outputs": [
    {
     "name": "stdout",
     "output_type": "stream",
     "text": [
      "Ordem os corredores: \n",
      "1°: C\n",
      "2°: A\n",
      "3°: B\n"
     ]
    }
   ],
   "source": [
    "import random as rand\n",
    "\n",
    "runner_a = 0\n",
    "runner_b = 0\n",
    "runner_c = 0\n",
    "winner_order = []\n",
    "\n",
    "while True:\n",
    "    if (runner_a >= 10 and runner_b >= 10 and runner_c >= 10):\n",
    "        break\n",
    "    randa = rand.randrange(1,3)\n",
    "    randb = rand.randrange(1,3)\n",
    "    randc = rand.randrange(1,3)\n",
    "    print(f\"Corredor A andou {randa} metros\")\n",
    "    print(f\"Corredor B andou {randb} metros\")\n",
    "    print(f\"Corredor C andou {randc} metros\")\n",
    "    runner_a += randa\n",
    "    runner_b += randb\n",
    "    runner_c += randc\n",
    "    if runner_a >= 10:\n",
    "        if \"A\" not in winner_order:\n",
    "            winner_order.append(\"A\")\n",
    "    if runner_b >= 10:\n",
    "        if \"B\" not in winner_order:\n",
    "            winner_order.append(\"B\")\n",
    "    if runner_c >= 10:\n",
    "        if \"C\" not in winner_order:\n",
    "            winner_order.append(\"C\")\n",
    "\n",
    "print(f\"Ordem os corredores: \")\n",
    "for i, runner in enumerate(winner_order, start=1):\n",
    "    print(f\"{i}°: {runner}\")"
   ]
  },
  {
   "cell_type": "markdown",
   "metadata": {},
   "source": [
    "## Exercício 2"
   ]
  },
  {
   "cell_type": "code",
   "execution_count": 47,
   "metadata": {},
   "outputs": [
    {
     "name": "stdout",
     "output_type": "stream",
     "text": [
      "Primeiro dado: 2\n",
      "Segundo dado: 2\n",
      "Primeiro dado: 4\n",
      "Segundo dado: 5\n",
      "Primeiro dado: 2\n",
      "Segundo dado: 5\n",
      "Primeiro dado: 5\n",
      "Segundo dado: 1\n",
      "Dados que cairam em exato número: \n",
      "Ambos dados caíram 2 no 1° lançamento\n"
     ]
    }
   ],
   "source": [
    "import random as rand\n",
    "\n",
    "dice1 = []\n",
    "dice2 = []\n",
    "same_roll = []\n",
    "for i in range(1, 5):\n",
    "    rand1 = rand.randint(1,6)\n",
    "    rand2 = rand.randint(1,6)\n",
    "    print(f\"{i}° Lançamento:\")\n",
    "    print(f\"Primeiro dado: {rand1}\")\n",
    "    print(f\"Segundo dado: {rand2}\")\n",
    "    dice1.append(rand1)\n",
    "    dice2.append(rand2)\n",
    "\n",
    "print(\"Dados que cairam em exato número: \")\n",
    "for i in range(len(dice1)):\n",
    "    if dice1[i] == dice2[i]:\n",
    "        print(f\"Ambos dados caíram {dice1[i]} no {i + 1}° lançamento\")\n"
   ]
  },
  {
   "cell_type": "markdown",
   "metadata": {},
   "source": [
    "## Exercício 3"
   ]
  },
  {
   "cell_type": "code",
   "execution_count": null,
   "metadata": {},
   "outputs": [
    {
     "name": "stdout",
     "output_type": "stream",
     "text": [
      "Menor número: 5\n",
      "Maior número: 10\n",
      "Soma: 15\n"
     ]
    }
   ],
   "source": [
    "import random as r\n",
    "CIRCUIT = 50\n",
    "\n",
    "rand1 = r.randint(1, 50)\n",
    "rand2 = r.randint(1, 50)\n",
    "rand3 = r.randint(1, 50)\n",
    "rand4 = r.randint(1, 50)\n",
    "rand5 = r.randint(1, 50)\n",
    "\n",
    "turtle1 = 0\n",
    "turtle2 = 0\n",
    "turtle3 = 0\n",
    "turtle4 = 0\n",
    "turtle5 = 0\n",
    "\n",
    "winner = \"\"\n",
    "\n",
    "while (turtle1 < CIRCUIT and turtle2 < CIRCUIT and turtle3 < CIRCUIT and turtle4 < CIRCUIT and turtle5 < CIRCUIT):\n",
    "    turtle1 += rand1\n",
    "    turtle2 += rand2\n",
    "    turtle3 += rand3\n",
    "    turtle4 += rand4\n",
    "    turtle5 += rand5\n",
    "    print(f\"Tartaruga 1 andou {turtle1} metros\")\n",
    "    print(f\"Tartaruga 2 andou {turtle2} metros\")\n",
    "    print(f\"Tartaruga 3 andou {turtle3} metros\")\n",
    "    print(f\"Tartaruga 4 andou {turtle4} metros\")\n",
    "    print(f\"Tartaruga 5 andou {turtle5} metros\")\n",
    "    if turtle1 >= CIRCUIT:\n",
    "        winner = \"1\"\n",
    "        break\n",
    "    elif turtle2 >= CIRCUIT:\n",
    "        winner = \"2\"\n",
    "        break\n",
    "    elif turtle3 >= CIRCUIT:\n",
    "        winner = \"3\"\n",
    "        break\n",
    "    elif turtle4 >= CIRCUIT:\n",
    "        winner = \"4\"\n",
    "        break\n",
    "    elif turtle5 >= CIRCUIT:\n",
    "        winner = \"5\"\n",
    "        break\n",
    "\n",
    "print(f\"O ganhador é a tartaruga {winner}\")"
   ]
  },
  {
   "cell_type": "markdown",
   "metadata": {},
   "source": [
    "## Exercício 4"
   ]
  },
  {
   "cell_type": "code",
   "execution_count": null,
   "metadata": {},
   "outputs": [],
   "source": []
  }
 ],
 "metadata": {
  "kernelspec": {
   "display_name": "Python 3",
   "language": "python",
   "name": "python3"
  },
  "language_info": {
   "codemirror_mode": {
    "name": "ipython",
    "version": 3
   },
   "file_extension": ".py",
   "mimetype": "text/x-python",
   "name": "python",
   "nbconvert_exporter": "python",
   "pygments_lexer": "ipython3",
   "version": "3.13.0"
  }
 },
 "nbformat": 4,
 "nbformat_minor": 2
}
