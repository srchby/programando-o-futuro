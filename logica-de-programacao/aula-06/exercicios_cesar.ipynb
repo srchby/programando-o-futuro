{
 "cells": [
  {
   "cell_type": "markdown",
   "metadata": {},
   "source": [
    "# Cesar School: Programando o futuro"
   ]
  },
  {
   "cell_type": "markdown",
   "metadata": {},
   "source": [
    "## Manipulação de Strings"
   ]
  },
  {
   "cell_type": "markdown",
   "metadata": {},
   "source": [
    "### Exercício 1"
   ]
  },
  {
   "cell_type": "code",
   "execution_count": 1,
   "metadata": {},
   "outputs": [
    {
     "name": "stdout",
     "output_type": "stream",
     "text": [
      "Textos possuem o mesmo comprimento\n",
      "Os textos são iguais\n"
     ]
    }
   ],
   "source": [
    "str1 = input(\"Insira texto: \")\n",
    "str2 = input(\"Insira texto: \")\n",
    "\n",
    "if len(str1) == len(str2):\n",
    "    print(\"Textos possuem o mesmo comprimento\")\n",
    "if str1 == str2:\n",
    "    print(\"Os textos são iguais\")"
   ]
  },
  {
   "cell_type": "markdown",
   "metadata": {},
   "source": [
    "### Exercício 2"
   ]
  },
  {
   "cell_type": "code",
   "execution_count": 5,
   "metadata": {},
   "outputs": [
    {
     "name": "stdout",
     "output_type": "stream",
     "text": [
      "A palavra é um palíndromo\n"
     ]
    }
   ],
   "source": [
    "str = input(\"Insira uma palavra: \")\n",
    "if str == str[::-1] and str > 2:\n",
    "    print(\"A palavra é um palíndromo\")"
   ]
  },
  {
   "cell_type": "markdown",
   "metadata": {},
   "source": [
    "### Exercício 3"
   ]
  },
  {
   "cell_type": "code",
   "execution_count": 2,
   "metadata": {},
   "outputs": [
    {
     "name": "stdout",
     "output_type": "stream",
     "text": [
      "05 de Fevereiro de 2099\n"
     ]
    }
   ],
   "source": [
    "birthdate = input(\"Entre sua data de nascimento (dd/mm/aaaa): \")\n",
    "\n",
    "if birthdate[3:5] == \"01\":\n",
    "    birthdate = birthdate[0:2] + \" de Janeiro de \" + birthdate[6:]\n",
    "elif birthdate[3:5] == \"02\":\n",
    "    birthdate = birthdate[0:2] + \" de Fevereiro de \" + birthdate[6:]\n",
    "elif birthdate[3:5] == \"03\":\n",
    "    birthdate = birthdate[0:2] + \" de Março de \" + birthdate[6:]\n",
    "elif birthdate[3:5] == \"04\":\n",
    "    birthdate = birthdate[0:2] + \" de Abril de \" + birthdate[6:]\n",
    "elif birthdate[3:5] == \"05\":\n",
    "    birthdate = birthdate[0:2] + \" de Maio de \" + birthdate[6:]\n",
    "elif birthdate[3:5] == \"06\":\n",
    "    birthdate = birthdate[0:2] + \" de Junho de \" + birthdate[6:]\n",
    "elif birthdate[3:5] == \"07\":\n",
    "    birthdate = birthdate[0:2] + \" de Julho de \" + birthdate[6:]\n",
    "elif birthdate[3:5] == \"08\":\n",
    "    birthdate = birthdate[0:2] + \" de Agosto de \" + birthdate[6:]\n",
    "elif birthdate[3:5] == \"09\":\n",
    "    birthdate = birthdate[0:2] + \" de Setembro de \" + birthdate[6:]\n",
    "elif birthdate[3:5] == \"10\":\n",
    "    birthdate = birthdate[0:2] + \" de Outubro de \" + birthdate[6:]\n",
    "elif birthdate[3:5] == \"11\":\n",
    "    birthdate = birthdate[0:2] + \" de Novembro de \" + birthdate[6:]\n",
    "elif birthdate[3:5] == \"12\":\n",
    "    birthdate = birthdate[0:2] + \" de Dezembro de \" + birthdate[6:]\n",
    "    \n",
    "print(f\"{birthdate}\")"
   ]
  },
  {
   "cell_type": "markdown",
   "metadata": {},
   "source": [
    "## Listas"
   ]
  },
  {
   "cell_type": "markdown",
   "metadata": {},
   "source": [
    "### Exercício 1"
   ]
  },
  {
   "cell_type": "code",
   "execution_count": 11,
   "metadata": {},
   "outputs": [
    {
     "name": "stdout",
     "output_type": "stream",
     "text": [
      "A média das notas é: 5.0\n"
     ]
    }
   ],
   "source": [
    "grades = []\n",
    "for i in range(3):\n",
    "    grade = int(input(\"Insira nota: \"))\n",
    "    grades.append(grade)\n",
    "\n",
    "sum = 0\n",
    "length = 0\n",
    "for g in grades:\n",
    "    sum += g\n",
    "    length += 1\n",
    "\n",
    "avg = sum / length\n",
    "\n",
    "print(f\"A média das notas é: {avg}\") \n",
    "    "
   ]
  },
  {
   "cell_type": "markdown",
   "metadata": {},
   "source": [
    "### Exercício 2"
   ]
  },
  {
   "cell_type": "code",
   "execution_count": 8,
   "metadata": {},
   "outputs": [
    {
     "name": "stdout",
     "output_type": "stream",
     "text": [
      "Nomes em ordem alfabética:  a f h t u\n"
     ]
    }
   ],
   "source": [
    "names = []\n",
    "for i in range(5):\n",
    "    name = input(\"Insira nome: \")\n",
    "    names.append(name)\n",
    "\n",
    "names.sort()\n",
    "print(\"Nomes em ordem alfabética:\", \", \".join(names))"
   ]
  },
  {
   "cell_type": "markdown",
   "metadata": {},
   "source": [
    "### Exercício 3"
   ]
  },
  {
   "cell_type": "code",
   "execution_count": 14,
   "metadata": {},
   "outputs": [
    {
     "name": "stdout",
     "output_type": "stream",
     "text": [
      "Pokémons capturados: sq, a, s, d\n"
     ]
    }
   ],
   "source": [
    "pkmns = []\n",
    "num = int(input(\"Quantidade de pokémons capturados: \"))\n",
    "for i in range(num):\n",
    "    pkmn = input(\"Insira pokémons capturados: \")\n",
    "    if pkmn == \"\":\n",
    "        break\n",
    "    pkmns.append(pkmn)\n",
    "\n",
    "unique_pkmns = []\n",
    "for p in pkmns:\n",
    "    if p not in unique_pkmns:\n",
    "        unique_pkmns.append(p)\n",
    "\n",
    "print(\"Pokémons capturados:\", \", \".join(unique_pkmns))"
   ]
  }
 ],
 "metadata": {
  "kernelspec": {
   "display_name": "Python 3",
   "language": "python",
   "name": "python3"
  },
  "language_info": {
   "codemirror_mode": {
    "name": "ipython",
    "version": 3
   },
   "file_extension": ".py",
   "mimetype": "text/x-python",
   "name": "python",
   "nbconvert_exporter": "python",
   "pygments_lexer": "ipython3",
   "version": "3.13.0"
  }
 },
 "nbformat": 4,
 "nbformat_minor": 2
}
