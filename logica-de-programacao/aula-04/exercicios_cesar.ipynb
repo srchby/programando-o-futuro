{
 "cells": [
  {
   "cell_type": "markdown",
   "metadata": {},
   "source": [
    "# Cesar School: Programando o futuro"
   ]
  },
  {
   "cell_type": "markdown",
   "metadata": {},
   "source": [
    "## Exercício 1"
   ]
  },
  {
   "cell_type": "code",
   "execution_count": null,
   "metadata": {},
   "outputs": [],
   "source": [
    "MAX = 20\n",
    "total = 0\n",
    "coins_inserted = 0\n",
    "coins = [0.1, 0.25, 0.5, 1]\n",
    "\n",
    "while True:\n",
    "    print(f\"Total: {total} \\nMoedas: {coins_inserted}\")\n",
    "    coin = float(input(\"Insira o valor (0.10 / 0.25 / 0.50 / 1.00): \"))\n",
    "    \n",
    "    if coin in coins:\n",
    "        if total + coins > 20:\n",
    "            print(\"Valor máximo excedido\")\n",
    "        elif total + coins <= 20:\n",
    "            total += coin\n",
    "            coins_inserted += 1\n",
    "            print(\"Moeda inserida com sucesso\")\n",
    "    else:\n",
    "        print(\"Valor incorreto\")\n",
    "            "
   ]
  },
  {
   "cell_type": "markdown",
   "metadata": {},
   "source": [
    "## Exercício 2"
   ]
  },
  {
   "cell_type": "code",
   "execution_count": null,
   "metadata": {},
   "outputs": [],
   "source": [
    "coins = [0.25, 0.5, 1]\n",
    "PRICE = 3.5\n",
    "total = 0\n",
    "\n",
    "while True:\n",
    "    action = input(\"Inserir valor (v) ou comprar refrigerante (c): \").lower()\n",
    "    \n",
    "    if action == \"v\":\n",
    "        coin = float(input(\"Insira o valor (0.10 / 0.25 / 0.50 / 1.00): \"))\n",
    "        if coin in coins:\n",
    "            total += coin\n",
    "        else:\n",
    "            print(\"Valor inválido\")\n",
    "    elif action == \"c\":\n",
    "        if total < PRICE:\n",
    "            print(\"Total insuficiente\")\n",
    "        elif total >= PRICE:\n",
    "            total -= PRICE\n",
    "            print(f\"Refrigerante comprado com sucesso. \\nTroco: {total}\")"
   ]
  },
  {
   "cell_type": "markdown",
   "metadata": {},
   "source": [
    "## Exercício 3"
   ]
  },
  {
   "cell_type": "code",
   "execution_count": 1,
   "metadata": {},
   "outputs": [
    {
     "name": "stdout",
     "output_type": "stream",
     "text": [
      "Novo grupo de 3 entrou, total na fila: 27\n",
      "Novo grupo de 3 entrou, total na fila: 24\n",
      "Novo grupo de 3 entrou, total na fila: 21\n",
      "Novo grupo de 3 entrou, total na fila: 18\n",
      "Novo grupo de 3 entrou, total na fila: 15\n",
      "Novo grupo de 3 entrou, total na fila: 12\n",
      "Novo grupo de 3 entrou, total na fila: 9\n",
      "Novo grupo de 3 entrou, total na fila: 6\n",
      "Novo grupo de 3 entrou, total na fila: 3\n",
      "Novo grupo de 3 entrou, total na fila: 0\n",
      "Todos se divertiram!\n"
     ]
    }
   ],
   "source": [
    "GROUP = 3\n",
    "queue = 30\n",
    "\n",
    "while queue != 0:\n",
    "    queue -= GROUP\n",
    "    print(f\"Novo grupo de 3 entrou, total na fila: {queue}\")\n",
    "\n",
    "print(\"Todos se divertiram!\")"
   ]
  },
  {
   "cell_type": "markdown",
   "metadata": {},
   "source": [
    "## Exercício 4"
   ]
  },
  {
   "cell_type": "code",
   "execution_count": null,
   "metadata": {},
   "outputs": [],
   "source": [
    "awake = False\n",
    "snooze = 0\n",
    "\n",
    "while not awake:\n",
    "    action = input(\"ALARME \\nSoneca (S) \\nLevantar (l)\").lower()\n",
    "    if action == \"s\":\n",
    "        snooze += 1\n",
    "        pass\n",
    "    if action == \"l\":\n",
    "        print(f\"Alarme desligado \\nTotal de sonecas: {snooze}\")\n",
    "        break"
   ]
  }
 ],
 "metadata": {
  "kernelspec": {
   "display_name": "Python 3",
   "language": "python",
   "name": "python3"
  },
  "language_info": {
   "codemirror_mode": {
    "name": "ipython",
    "version": 3
   },
   "file_extension": ".py",
   "mimetype": "text/x-python",
   "name": "python",
   "nbconvert_exporter": "python",
   "pygments_lexer": "ipython3",
   "version": "3.13.0"
  }
 },
 "nbformat": 4,
 "nbformat_minor": 2
}
