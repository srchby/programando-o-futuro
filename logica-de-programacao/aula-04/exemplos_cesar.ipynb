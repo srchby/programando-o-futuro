{
 "cells": [
  {
   "cell_type": "markdown",
   "metadata": {},
   "source": [
    "# Cesar School: Programando o futuro"
   ]
  },
  {
   "cell_type": "markdown",
   "metadata": {},
   "source": [
    "## Exemplo 1"
   ]
  },
  {
   "cell_type": "code",
   "execution_count": 1,
   "metadata": {},
   "outputs": [
    {
     "name": "stdout",
     "output_type": "stream",
     "text": [
      "5 * 1: 5\n",
      "5 * 2: 10\n",
      "5 * 3: 15\n",
      "5 * 4: 20\n",
      "5 * 5: 25\n",
      "5 * 6: 30\n",
      "5 * 7: 35\n",
      "5 * 8: 40\n",
      "5 * 9: 45\n",
      "5 * 10: 50\n"
     ]
    }
   ],
   "source": [
    "num = int(input(\"Insira número para ver sua tabuada: \"))\n",
    "\n",
    "for i in range(1, 11):\n",
    "    print(f\"{num} * {i}: {num * i}\")"
   ]
  },
  {
   "cell_type": "markdown",
   "metadata": {},
   "source": [
    "## Exemplo 2"
   ]
  },
  {
   "cell_type": "code",
   "execution_count": 2,
   "metadata": {},
   "outputs": [
    {
     "name": "stdout",
     "output_type": "stream",
     "text": [
      "5 * 2: 10\n",
      "5 * 3: 15\n",
      "5 * 4: 20\n",
      "5 * 5: 25\n",
      "5 * 6: 30\n",
      "5 * 7: 35\n"
     ]
    }
   ],
   "source": [
    "num = int(input(\"Insira multiplicações de um número: \"))\n",
    "i = int(input(\"Número que inicia: \"))\n",
    "j = int(input(\"Número que acaba\"))\n",
    "\n",
    "for a in range(i, j + 1):\n",
    "    print(f\"{num} * {a}: {num * a}\")"
   ]
  },
  {
   "cell_type": "markdown",
   "metadata": {},
   "source": [
    "## Exemplo 3"
   ]
  },
  {
   "cell_type": "code",
   "execution_count": 3,
   "metadata": {},
   "outputs": [
    {
     "name": "stdout",
     "output_type": "stream",
     "text": [
      "Menor número: 2\n",
      "Maior número: 10\n",
      "Soma: 17\n"
     ]
    }
   ],
   "source": [
    "nums = []\n",
    "while True:\n",
    "    num = input(\"Insira números (Aperte Enter para parar): \")\n",
    "    if num == \"\":\n",
    "        break\n",
    "    num = int(num)\n",
    "    nums.append(num)\n",
    "\n",
    "print(f\"Menor número: {min(nums)}\")\n",
    "print(f\"Maior número: {max(nums)}\")\n",
    "print(f\"Soma: {sum(nums)}\")"
   ]
  },
  {
   "cell_type": "markdown",
   "metadata": {},
   "source": [
    "## Exemplo 4"
   ]
  },
  {
   "cell_type": "code",
   "execution_count": 4,
   "metadata": {},
   "outputs": [
    {
     "name": "stdout",
     "output_type": "stream",
     "text": [
      "Soma dos números ímpares: 2500\n"
     ]
    }
   ],
   "source": [
    "even = []\n",
    "for i in range(1, 100):\n",
    "    if i % 2 != 0:\n",
    "        even.append(i)\n",
    "\n",
    "print(f\"Soma dos números ímpares: {sum(even)}\")"
   ]
  }
 ],
 "metadata": {
  "kernelspec": {
   "display_name": "Python 3",
   "language": "python",
   "name": "python3"
  },
  "language_info": {
   "codemirror_mode": {
    "name": "ipython",
    "version": 3
   },
   "file_extension": ".py",
   "mimetype": "text/x-python",
   "name": "python",
   "nbconvert_exporter": "python",
   "pygments_lexer": "ipython3",
   "version": "3.13.0"
  }
 },
 "nbformat": 4,
 "nbformat_minor": 2
}
