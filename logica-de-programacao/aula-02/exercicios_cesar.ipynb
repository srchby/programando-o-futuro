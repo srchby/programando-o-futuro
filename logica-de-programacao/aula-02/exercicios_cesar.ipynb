{
 "cells": [
  {
   "cell_type": "markdown",
   "metadata": {},
   "source": [
    "# Cesar School: Programando o Futuro"
   ]
  },
  {
   "cell_type": "markdown",
   "metadata": {},
   "source": [
    "## Exercício 1"
   ]
  },
  {
   "cell_type": "code",
   "execution_count": null,
   "metadata": {},
   "outputs": [],
   "source": [
    "def print_people(name, age, place):\n",
    "    print(f\"Olá, {name}! Você tem {age} anos e mora em {place}.\")\n",
    "    \n",
    "name = input(\"Insira nome\")\n",
    "age = int(input(\"Insira nome\"))\n",
    "place = input(\"Insira nome\")\n",
    "\n",
    "print_people(name, age, place)"
   ]
  },
  {
   "cell_type": "markdown",
   "metadata": {},
   "source": [
    "## Exercício 2"
   ]
  },
  {
   "cell_type": "code",
   "execution_count": null,
   "metadata": {},
   "outputs": [],
   "source": [
    "def voting_age(age):\n",
    "    if age >= 16:\n",
    "        print(\"Você pode votar\")\n",
    "    else:\n",
    "        print(\"Você ainda não pode votar\")   \n",
    "\n",
    "age = int(input(\"Insira sua idade: \"))\n",
    "\n",
    "voting_age(age)"
   ]
  },
  {
   "cell_type": "markdown",
   "metadata": {},
   "source": [
    "## Exercício 3"
   ]
  },
  {
   "cell_type": "code",
   "execution_count": null,
   "metadata": {},
   "outputs": [],
   "source": [
    "def student_checker(student):\n",
    "    if student.lower() == \"s\":\n",
    "        return True\n",
    "    elif student.lower() == \"n\":\n",
    "        return False\n",
    "\n",
    "def discount_checker(student, age):\n",
    "    if student and age < 18:\n",
    "        return True\n",
    "    else:\n",
    "        return False\n",
    "\n",
    "name = input(\"Insira nome: \")\n",
    "age = int(input(\"Insira idade: \"))\n",
    "student = input(\"Insira se é estudante (S/N): \")\n",
    "\n",
    "student = student_checker(student)\n",
    "discount = discount_checker(student, age)\n",
    "    \n",
    "if discount:\n",
    "    print(f\"{name}, você TEM direito ao desconto!\")\n",
    "if not discount:\n",
    "    print(f\"{name}, você NÃO tem direito ao desconto.\")"
   ]
  },
  {
   "cell_type": "markdown",
   "metadata": {},
   "source": [
    "## Exercício 4"
   ]
  },
  {
   "cell_type": "code",
   "execution_count": null,
   "metadata": {},
   "outputs": [],
   "source": [
    "def login(user, passw):\n",
    "    if (user == USER and passw == PASS):\n",
    "        print(\"Login bem-sucedido!\")\n",
    "    else:\n",
    "        print(\"Usuário ou senha incorretos.\")\n",
    "    \n",
    "USER = \"admin\"\n",
    "PASS = \"1234\"\n",
    "\n",
    "user = input(\"Insira nome: \")\n",
    "passw = input(\"Insira senha: \")\n",
    "\n",
    "login(user, passw)"
   ]
  },
  {
   "cell_type": "markdown",
   "metadata": {},
   "source": [
    "## Exercício 5"
   ]
  },
  {
   "cell_type": "code",
   "execution_count": null,
   "metadata": {},
   "outputs": [],
   "source": [
    "def ride_checker(height, age):\n",
    "    if height >= 1.5 and age >= 12:\n",
    "        print(\"Aproveite o brinquedo!\")\n",
    "    else:\n",
    "        print(\"Você ainda não pode usar este brinquedo\")\n",
    "        \n",
    "height = float(input(\"Insira sua altura (m): \"))\n",
    "age = int(input(\"Insira sua idade: \"))\n",
    "\n",
    "ride_checker(height, age)"
   ]
  }
 ],
 "metadata": {
  "kernelspec": {
   "display_name": "Python 3",
   "language": "python",
   "name": "python3"
  },
  "language_info": {
   "name": "python",
   "version": "3.13.0"
  }
 },
 "nbformat": 4,
 "nbformat_minor": 2
}
