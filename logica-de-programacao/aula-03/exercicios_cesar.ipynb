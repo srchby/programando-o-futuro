{
 "cells": [
  {
   "cell_type": "markdown",
   "metadata": {},
   "source": [
    "# Cesar School: Programando o futuro"
   ]
  },
  {
   "cell_type": "markdown",
   "metadata": {},
   "source": [
    "## Exercício 1"
   ]
  },
  {
   "cell_type": "code",
   "execution_count": null,
   "metadata": {},
   "outputs": [],
   "source": [
    "ORANGE = 3.0\n",
    "GRAPE = 3.5\n",
    "PINEAPPLE = 4.0\n",
    "\n",
    "def juice_machine(flavor, money):\n",
    "    if flavor.lower() == \"laranja\":\n",
    "        if (money >= ORANGE):\n",
    "            money -= ORANGE\n",
    "            if money != 0:\n",
    "                print(f\"Suco de {flavor} comprado com sucesso, seu troco é {money}\")\n",
    "            else:\n",
    "                print(f\"Suco de {flavor} comprado com sucesso\")\n",
    "        else:\n",
    "            print(f\"Você não possui dinheiro o suficiente para um suco de {flavor}\")\n",
    "    elif flavor.lower() == \"uva\":\n",
    "        if (money >= GRAPE):\n",
    "            money -= GRAPE\n",
    "            if money != 0:\n",
    "                print(f\"Suco de {flavor} comprado com sucesso, seu troco é {money}\")\n",
    "            else:\n",
    "                print(f\"Suco de {flavor} comprado com sucesso\")\n",
    "        else:\n",
    "            print(f\"Você não possui dinheiro o suficiente para um suco de {flavor}\")\n",
    "    elif flavor.lower() == \"abacaxi\":\n",
    "        if (money >= PINEAPPLE):\n",
    "            money -= PINEAPPLE\n",
    "            if money != 0:\n",
    "                print(f\"Suco de {flavor} comprado com sucesso, seu troco é {money}\")\n",
    "            else:\n",
    "                print(f\"Suco de {flavor} comprado com sucesso\")\n",
    "        else:\n",
    "            print(f\"Você não possui dinheiro o suficiente para um suco de {flavor}\")\n",
    "\n",
    "flavor = input(\"Bem-vindo a máquina de sucos, qual suco deseja comprar (Laranja, Uva, Abacaxi)? \")\n",
    "money = float(input(\"Insira a quantidade de dinheiro pra inserir na máquina: \"))\n",
    "\n",
    "juice_machine(flavor, money)"
   ]
  },
  {
   "cell_type": "markdown",
   "metadata": {},
   "source": [
    "## Exercício 2"
   ]
  },
  {
   "cell_type": "code",
   "execution_count": null,
   "metadata": {},
   "outputs": [],
   "source": [
    "priority = 0\n",
    "\n",
    "def priority_checker(pregnant, deficiency):\n",
    "    if pregnant.lower() == \"s\":\n",
    "        pregnant = True\n",
    "    if deficiency.lower() == \"s\":\n",
    "        deficiency = True\n",
    "    if pregnant.lower() == \"n\":\n",
    "        pregnant = False\n",
    "    if deficiency.lower() == \"n\":\n",
    "        deficiency = False\n",
    "    else:\n",
    "        print(\"Erro na resposta\")\n",
    "    \n",
    "\n",
    "def check_in(age, pregnant, deficiency):\n",
    "    if age >= 60:\n",
    "        priority += 1\n",
    "    if pregnant:\n",
    "        priority += 2\n",
    "    if deficiency:\n",
    "        priority += 2\n",
    "    return\n",
    "\n",
    "print(\"Para saber sua prioridade na fila responda as seguinte questões: \")\n",
    "age = int(input(\"Insira sua idade: \"))\n",
    "pregnant = input(\"Você está em estado de gravidez (S/N)?\")\n",
    "deficiency = input(\"Você possui alguma deficiência (S/N)\")\n",
    "\n",
    "priority_checker(pregnant, deficiency)\n",
    "check_in(age, pregnant, deficiency)\n",
    "\n",
    "if priority > 0:\n",
    "    print(f\"Você está na linha de prioridade 1\")\n",
    "elif priority > 1:\n",
    "    print(f\"Você está na linha de prioridade 2\")"
   ]
  },
  {
   "cell_type": "markdown",
   "metadata": {},
   "source": [
    "## Exercício 3"
   ]
  },
  {
   "cell_type": "code",
   "execution_count": null,
   "metadata": {},
   "outputs": [],
   "source": [
    "average = 0\n",
    "income = 0\n",
    "scholarship = 0\n",
    "\n",
    "def scholarship_checker(average, income):\n",
    "    if average >= 9 and income < 2000:\n",
    "        scholarship = 100\n",
    "    elif average >= 7 and income < 3000:\n",
    "        scholarship = 50\n",
    "    else:\n",
    "        return\n",
    "\n",
    "average = float(input(\"Insira sua média de notas\"))\n",
    "income = int(input(\"Insira sua renda: \"))\n",
    "scholarship_checker(average, income)\n",
    "print(f\"Você conseguira uma bolsa de {scholarship}%\")"
   ]
  },
  {
   "cell_type": "markdown",
   "metadata": {},
   "source": [
    "\n",
    "## Exercício 4"
   ]
  },
  {
   "cell_type": "code",
   "execution_count": null,
   "metadata": {},
   "outputs": [],
   "source": [
    "HAMBURGUER_EXTRAS = [\"batata frita\", \"batata\", \"refrigerante\", \"refri\"]\n",
    "PIZZA_EXTRAS = [\"suco\", \"refrigerante\", \"refri\"]\n",
    "SALAD_EXTRAS = [\"molho especial\", \"suco\"]\n",
    "log = []\n",
    "food = input(\"Escolha uma comida (Hambúrguer / Pizza / Salada): \")\n",
    "food = food.lower()\n",
    "\n",
    "if food == \"hamburguer\" or food == \"hambúrguer\":\n",
    "    extra = input(\"Escolha um acompanhamento (Batata Frita / Refrigerante): \")\n",
    "    extra = extra.lower()\n",
    "    if extra in HAMBURGUER_EXTRAS:\n",
    "        log.append(f\"Compra de {food} com {extra} aceita com sucesso\")\n",
    "elif food == \"pizza\":\n",
    "    extra = input(\"Escolha um acompanhamento (Suco / Refrigerante): \")\n",
    "    extra = extra.lower()\n",
    "    if extra in PIZZA_EXTRAS:\n",
    "        log.append(f\"Compra de {food} com {extra} aceita com sucesso\")\n",
    "elif food == \"salada\":\n",
    "    extra = input(\"Escolha um acompanhamento (Molho Especial / Suco): \")\n",
    "    extra = extra.lower()\n",
    "    if extra in SALAD_EXTRAS:\n",
    "        log.append(f\"Compra de {food} com {extra} aceita com sucesso\")\n",
    "else:\n",
    "    print(\"Comida ou acompanhamento inválido\")\n",
    "\n",
    "print(f\"{log[-1]}\")"
   ]
  },
  {
   "cell_type": "markdown",
   "metadata": {},
   "source": [
    "## Exercício 5"
   ]
  },
  {
   "cell_type": "code",
   "execution_count": null,
   "metadata": {},
   "outputs": [],
   "source": []
  }
 ],
 "metadata": {
  "kernelspec": {
   "display_name": "Python 3",
   "language": "python",
   "name": "python3"
  },
  "language_info": {
   "name": "python",
   "version": "3.13.0"
  }
 },
 "nbformat": 4,
 "nbformat_minor": 2
}
