{
 "cells": [
  {
   "cell_type": "markdown",
   "metadata": {},
   "source": [
    "# Cesar School: Programando o futuro"
   ]
  },
  {
   "cell_type": "markdown",
   "metadata": {},
   "source": [
    "## Exemplo 1"
   ]
  },
  {
   "cell_type": "code",
   "execution_count": null,
   "metadata": {},
   "outputs": [],
   "source": [
    "shift = input(\"Insira seu turno (M: Manhã / V: Vespertino / N: Noturno): \")\n",
    "\n",
    "if shift.lower() == \"m\":\n",
    "    print(\"Bom dia!\")\n",
    "elif shift.lower() == \"v\":\n",
    "    print(\"Boa tarde!\")\n",
    "elif shift.lower() == \"n\":\n",
    "    print(\"Boa noite!\")\n",
    "else:\n",
    "    print(\"Valor inválido!\")"
   ]
  },
  {
   "cell_type": "markdown",
   "metadata": {},
   "source": [
    "## Exemplo 2 e 3"
   ]
  },
  {
   "cell_type": "code",
   "execution_count": null,
   "metadata": {},
   "outputs": [],
   "source": [
    "def calculator(num1, num2, op):\n",
    "    op == op.lower()\n",
    "    if op == \"soma\" or op == \"+\":\n",
    "        return num1 + num2\n",
    "    elif op == \"subtração\" or op == \"subtracao\" or op == \"-\":\n",
    "        return num1 - num2\n",
    "    elif op == \"multiplicação\" or op == \"multiplicacao\" or op == \"*\" or op == \"x\":\n",
    "        return num1 * num2\n",
    "    elif op == \"divisão\" or op == \"divisao\" or op == \"/\":\n",
    "        return num1 / num2\n",
    "    else:\n",
    "        print(\"Erro na operação\")\n",
    "        \n",
    "num1 = int(input(\"Insira um número: \"))\n",
    "num2 = int(input(\"Insira outro número: \"))\n",
    "op = input(\"Insira uma operação: \")\n",
    "\n",
    "result = calculator(num1, num2, op)\n",
    "print(f\"Resultado da operação: {result}\")"
   ]
  }
 ],
 "metadata": {
  "kernelspec": {
   "display_name": "Python 3",
   "language": "python",
   "name": "python3"
  },
  "language_info": {
   "name": "python",
   "version": "3.13.0"
  }
 },
 "nbformat": 4,
 "nbformat_minor": 2
}
