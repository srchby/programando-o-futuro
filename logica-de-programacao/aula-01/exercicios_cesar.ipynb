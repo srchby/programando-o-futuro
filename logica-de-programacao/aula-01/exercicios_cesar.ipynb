{
  "nbformat": 4,
  "nbformat_minor": 0,
  "metadata": {
    "colab": {
      "provenance": []
    },
    "kernelspec": {
      "name": "python3",
      "display_name": "Python 3"
    },
    "language_info": {
      "name": "python"
    }
  },
  "cells": [
    {
      "cell_type": "markdown",
      "source": [
        "#Cesar School: Porgramando o Futuro\n"
      ],
      "metadata": {
        "id": "t3zju6Yfa6FQ"
      }
    },
    {
      "cell_type": "markdown",
      "source": [
        "##Exercício 1"
      ],
      "metadata": {
        "id": "LfwqB0Oza-RO"
      }
    },
    {
      "cell_type": "code",
      "execution_count": null,
      "metadata": {
        "id": "khsi2VoJa1j7"
      },
      "outputs": [],
      "source": [
        "def calculate_ticket_price(ticket):\n",
        "    return 50 * ticket\n",
        "\n",
        "qty_ticket = int(input(\"Insira número de ingresso: \"))\n",
        "print(f\"O preço pelo número de ingressos é: R${calculate_ticket_price(qty_ticket)}\")"
      ]
    },
    {
      "cell_type": "markdown",
      "source": [
        "## Exercício 2"
      ],
      "metadata": {
        "id": "U9f91BWyf-TJ"
      }
    },
    {
      "cell_type": "code",
      "source": [
        "def median(grade1,grade2,grade3):\n",
        "    sum = grade1+grade2+grade3\n",
        "    return sum / 3\n",
        "\n",
        "print(\"Insira três notas: \")\n",
        "grade1 = int(input(\"Nota 1: \"))\n",
        "grade2 = int(input(\"Nota 2: \"))\n",
        "grade3 = int(input(\"Nota 3: \"))\n",
        "print(f\"A média do aluno é {median(grade1,grade2,grade3)}\")"
      ],
      "metadata": {
        "id": "N88eCiBFf4Gh"
      },
      "execution_count": null,
      "outputs": []
    },
    {
      "cell_type": "markdown",
      "source": [
        "## Exercício 3"
      ],
      "metadata": {
        "id": "UFCbCq2agAGx"
      }
    },
    {
      "cell_type": "code",
      "source": [
        "def buy_product(name, qty, price):\n",
        "    return f\"{name} custa R${qty * price}\"\n",
        "\n",
        "print(\"Insira nome do produto, preço e quantidade\")\n",
        "name = input(\"Nome: \")\n",
        "price = int(input(\"Preço: \"))\n",
        "qty = int(input(\"Quantidade: \"))\n",
        "print(f\"Você comprou {qty} unidades de {name} por R${buy_product(name,qty,price)}\")"
      ],
      "metadata": {
        "id": "0QCUMiD0f5sW"
      },
      "execution_count": null,
      "outputs": []
    },
    {
      "cell_type": "markdown",
      "source": [
        "## Exercício 4"
      ],
      "metadata": {
        "id": "WymoSF6xgCHK"
      }
    },
    {
      "cell_type": "code",
      "source": [
        "def age_to_days(age):\n",
        "    return age * 365\n",
        "\n",
        "age = int(input(\"Insira sua idade: \"))\n",
        "print(f\"Você viveu {age_to_days(age)} dias\")"
      ],
      "metadata": {
        "id": "Iqg6LQdIf7E5"
      },
      "execution_count": null,
      "outputs": []
    },
    {
      "cell_type": "markdown",
      "source": [
        "## Exercício 5"
      ],
      "metadata": {
        "id": "TN4JkVLegDzP"
      }
    },
    {
      "cell_type": "code",
      "source": [
        "def fuel_to_travel(distance, consumption):\n",
        "    return distance / consumption\n",
        "\n",
        "print(\"Insira a distância da viagem e consumo do carro\")\n",
        "distance = int(input(\"Distância da viagem (Km): \"))\n",
        "consumption = int(input(\"Consumo médio (L/Km): \"))\n",
        "print(f\"Você precisará de {fuel_to_travel(distance, consumption)} litros de combustível\")"
      ],
      "metadata": {
        "id": "nrZSfYl6f8d9"
      },
      "execution_count": null,
      "outputs": []
    }
  ]
}