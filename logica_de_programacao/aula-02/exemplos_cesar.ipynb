{
 "cells": [
  {
   "cell_type": "markdown",
   "metadata": {},
   "source": [
    "# Cesar School: Programando o Futuro"
   ]
  },
  {
   "cell_type": "markdown",
   "metadata": {},
   "source": [
    "## Exemplo 1"
   ]
  },
  {
   "cell_type": "code",
   "execution_count": null,
   "metadata": {},
   "outputs": [],
   "source": [
    "number = int(input())\n",
    "\n",
    "if number % 2 == 0:\n",
    "    print(\"É par\")\n",
    "else:\n",
    "    print(\"É impar\")"
   ]
  },
  {
   "cell_type": "markdown",
   "metadata": {},
   "source": [
    "## Exercício 2"
   ]
  },
  {
   "cell_type": "code",
   "execution_count": null,
   "metadata": {},
   "outputs": [],
   "source": [
    "day = input()\n",
    "\n",
    "if day.lower() == \"sábado\" or day.lower() == \"domingo\":\n",
    "    print(\"É dia de folga\")\n",
    "else:\n",
    "    print(\"Não é dia de folga\")"
   ]
  },
  {
   "cell_type": "markdown",
   "metadata": {},
   "source": [
    "## Exercício 3"
   ]
  },
  {
   "cell_type": "code",
   "execution_count": null,
   "metadata": {},
   "outputs": [],
   "source": [
    "language = input()\n",
    "\n",
    "if language == \"english\":\n",
    "    print(\"How are you?\")"
   ]
  },
  {
   "cell_type": "markdown",
   "metadata": {},
   "source": [
    "## Exercício 4"
   ]
  },
  {
   "cell_type": "code",
   "execution_count": null,
   "metadata": {},
   "outputs": [],
   "source": [
    "grade1 = int(input())\n",
    "grade2 = int(input())\n",
    "\n",
    "median = (grade1 + grade2) / 2\n",
    "\n",
    "if median >= 7:\n",
    "    print(\"Passou\")\n",
    "else:\n",
    "    print(\"Recuperação\")"
   ]
  },
  {
   "cell_type": "markdown",
   "metadata": {},
   "source": [
    "## Exercício 5"
   ]
  },
  {
   "cell_type": "code",
   "execution_count": null,
   "metadata": {},
   "outputs": [],
   "source": [
    "year = int(input())\n",
    "\n",
    "if year % 4 == 0 and year % 100 == 0 and year % 400 == 0:\n",
    "    print(\"É bissexto\")\n",
    "if year % 4 == 0 and year % 100 != 0:\n",
    "    print(\"Não é bissexto\")\n",
    "else:\n",
    "    print(\"Não é bissexto\")"
   ]
  }
 ],
 "metadata": {
  "kernelspec": {
   "display_name": "Python 3",
   "language": "python",
   "name": "python3"
  },
  "language_info": {
   "name": "python",
   "version": "3.13.0"
  }
 },
 "nbformat": 4,
 "nbformat_minor": 2
}
