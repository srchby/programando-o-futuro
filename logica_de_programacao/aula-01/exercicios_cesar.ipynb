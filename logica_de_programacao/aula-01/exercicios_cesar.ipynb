{
  "cells": [
    {
      "cell_type": "markdown",
      "metadata": {
        "id": "t3zju6Yfa6FQ"
      },
      "source": [
        "# Cesar School: Programando o Futuro"
      ]
    },
    {
      "cell_type": "markdown",
      "metadata": {
        "id": "LfwqB0Oza-RO"
      },
      "source": [
        "## Exercício 1"
      ]
    },
    {
      "cell_type": "code",
      "execution_count": null,
      "metadata": {
        "id": "khsi2VoJa1j7"
      },
      "outputs": [],
      "source": [
        "def calculate_ticket_price(ticket):\n",
        "    return 50 * ticket\n",
        "\n",
        "qty_ticket = int(input(\"Insira número de ingresso: \"))\n",
        "print(f\"O preço pelo número de ingressos é: R${calculate_ticket_price(qty_ticket)}\")"
      ]
    },
    {
      "cell_type": "markdown",
      "metadata": {
        "id": "U9f91BWyf-TJ"
      },
      "source": [
        "## Exercício 2"
      ]
    },
    {
      "cell_type": "code",
      "execution_count": null,
      "metadata": {
        "id": "N88eCiBFf4Gh"
      },
      "outputs": [],
      "source": [
        "def median(grade1,grade2,grade3):\n",
        "    sum = grade1+grade2+grade3\n",
        "    return sum / 3\n",
        "\n",
        "print(\"Insira três notas: \")\n",
        "grade1 = int(input(\"Nota 1: \"))\n",
        "grade2 = int(input(\"Nota 2: \"))\n",
        "grade3 = int(input(\"Nota 3: \"))\n",
        "print(f\"A média do aluno é {median(grade1,grade2,grade3)}\")"
      ]
    },
    {
      "cell_type": "markdown",
      "metadata": {
        "id": "UFCbCq2agAGx"
      },
      "source": [
        "## Exercício 3"
      ]
    },
    {
      "cell_type": "code",
      "execution_count": null,
      "metadata": {
        "id": "0QCUMiD0f5sW"
      },
      "outputs": [],
      "source": [
        "def buy_product(name, qty, price):\n",
        "    return f\"{name} custa R${qty * price}\"\n",
        "\n",
        "print(\"Insira nome do produto, preço e quantidade\")\n",
        "name = input(\"Nome: \")\n",
        "price = int(input(\"Preço: \"))\n",
        "qty = int(input(\"Quantidade: \"))\n",
        "print(f\"Você comprou {qty} unidades de {name} por R${buy_product(name,qty,price)}\")"
      ]
    },
    {
      "cell_type": "markdown",
      "metadata": {
        "id": "WymoSF6xgCHK"
      },
      "source": [
        "## Exercício 4"
      ]
    },
    {
      "cell_type": "code",
      "execution_count": null,
      "metadata": {
        "id": "Iqg6LQdIf7E5"
      },
      "outputs": [],
      "source": [
        "def age_to_days(age):\n",
        "    return age * 365\n",
        "\n",
        "age = int(input(\"Insira sua idade: \"))\n",
        "print(f\"Você viveu {age_to_days(age)} dias\")"
      ]
    },
    {
      "cell_type": "markdown",
      "metadata": {
        "id": "TN4JkVLegDzP"
      },
      "source": [
        "## Exercício 5"
      ]
    },
    {
      "cell_type": "code",
      "execution_count": null,
      "metadata": {
        "id": "nrZSfYl6f8d9"
      },
      "outputs": [],
      "source": [
        "def fuel_to_travel(distance, consumption):\n",
        "    return distance / consumption\n",
        "\n",
        "print(\"Insira a distância da viagem e consumo do carro\")\n",
        "distance = int(input(\"Distância da viagem (Km): \"))\n",
        "consumption = int(input(\"Consumo médio (L/Km): \"))\n",
        "print(f\"Você precisará de {fuel_to_travel(distance, consumption)} litros de combustível\")"
      ]
    }
  ],
  "metadata": {
    "colab": {
      "provenance": []
    },
    "kernelspec": {
      "display_name": "Python 3",
      "name": "python3"
    },
    "language_info": {
      "name": "python"
    }
  },
  "nbformat": 4,
  "nbformat_minor": 0
}
